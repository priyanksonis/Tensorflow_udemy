{
 "cells": [
  {
   "cell_type": "code",
   "execution_count": 35,
   "metadata": {},
   "outputs": [],
   "source": [
    "l1 = [\"t1_ec74mzi\" ,\"t1_ec75s1z\", \"t1_ec76a2n\" , \"t3_a7zzhn\",\"t1_ec74r9d\", \"t1_ec75gud\", ]"
   ]
  },
  {
   "cell_type": "code",
   "execution_count": 36,
   "metadata": {},
   "outputs": [
    {
     "data": {
      "text/plain": [
       "['t1_ec74mzi',\n",
       " 't1_ec75s1z',\n",
       " 't1_ec76a2n',\n",
       " 't3_a7zzhn',\n",
       " 't1_ec74r9d',\n",
       " 't1_ec75gud']"
      ]
     },
     "execution_count": 36,
     "metadata": {},
     "output_type": "execute_result"
    }
   ],
   "source": [
    "l1"
   ]
  },
  {
   "cell_type": "code",
   "execution_count": 37,
   "metadata": {},
   "outputs": [
    {
     "data": {
      "text/plain": [
       "['t1_ec74mzi',\n",
       " 't1_ec74r9d',\n",
       " 't1_ec75gud',\n",
       " 't1_ec75s1z',\n",
       " 't1_ec76a2n',\n",
       " 't3_a7zzhn']"
      ]
     },
     "execution_count": 37,
     "metadata": {},
     "output_type": "execute_result"
    }
   ],
   "source": [
    "sorted(l1)"
   ]
  },
  {
   "cell_type": "code",
   "execution_count": null,
   "metadata": {},
   "outputs": [],
   "source": []
  },
  {
   "cell_type": "code",
   "execution_count": null,
   "metadata": {},
   "outputs": [],
   "source": []
  },
  {
   "cell_type": "code",
   "execution_count": 42,
   "metadata": {},
   "outputs": [],
   "source": [
    "l2 = [\"t1_ec70l20\", \"t1_ec70egd\",\"t3_a7zzhn\", \"t1_ec704nj\", \"t1_ec70100\",]"
   ]
  },
  {
   "cell_type": "code",
   "execution_count": 43,
   "metadata": {},
   "outputs": [
    {
     "data": {
      "text/plain": [
       "['t1_ec70100', 't1_ec704nj', 't1_ec70egd', 't1_ec70l20', 't3_a7zzhn']"
      ]
     },
     "execution_count": 43,
     "metadata": {},
     "output_type": "execute_result"
    }
   ],
   "source": [
    "sorted(l2)"
   ]
  },
  {
   "cell_type": "code",
   "execution_count": null,
   "metadata": {},
   "outputs": [],
   "source": []
  },
  {
   "cell_type": "code",
   "execution_count": 44,
   "metadata": {},
   "outputs": [],
   "source": [
    "l3 = l1 + l2"
   ]
  },
  {
   "cell_type": "code",
   "execution_count": 45,
   "metadata": {},
   "outputs": [
    {
     "data": {
      "text/plain": [
       "['t1_ec74mzi',\n",
       " 't1_ec75s1z',\n",
       " 't1_ec76a2n',\n",
       " 't3_a7zzhn',\n",
       " 't1_ec74r9d',\n",
       " 't1_ec75gud',\n",
       " 't1_ec70l20',\n",
       " 't1_ec70egd',\n",
       " 't3_a7zzhn',\n",
       " 't1_ec704nj',\n",
       " 't1_ec70100']"
      ]
     },
     "execution_count": 45,
     "metadata": {},
     "output_type": "execute_result"
    }
   ],
   "source": [
    "l3"
   ]
  },
  {
   "cell_type": "code",
   "execution_count": 46,
   "metadata": {},
   "outputs": [
    {
     "data": {
      "text/plain": [
       "['t1_ec70100',\n",
       " 't1_ec704nj',\n",
       " 't1_ec70egd',\n",
       " 't1_ec70l20',\n",
       " 't1_ec74mzi',\n",
       " 't1_ec74r9d',\n",
       " 't1_ec75gud',\n",
       " 't1_ec75s1z',\n",
       " 't1_ec76a2n',\n",
       " 't3_a7zzhn',\n",
       " 't3_a7zzhn']"
      ]
     },
     "execution_count": 46,
     "metadata": {},
     "output_type": "execute_result"
    }
   ],
   "source": [
    "sorted(l3)"
   ]
  },
  {
   "cell_type": "code",
   "execution_count": null,
   "metadata": {},
   "outputs": [],
   "source": []
  }
 ],
 "metadata": {
  "kernelspec": {
   "display_name": "Python 3",
   "language": "python",
   "name": "python3"
  },
  "language_info": {
   "codemirror_mode": {
    "name": "ipython",
    "version": 3
   },
   "file_extension": ".py",
   "mimetype": "text/x-python",
   "name": "python",
   "nbconvert_exporter": "python",
   "pygments_lexer": "ipython3",
   "version": "3.5.6"
  }
 },
 "nbformat": 4,
 "nbformat_minor": 4
}
